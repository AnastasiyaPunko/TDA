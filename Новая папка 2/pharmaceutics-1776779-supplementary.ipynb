{
 "cells": [
  {
   "cell_type": "markdown",
   "id": "c129b31c",
   "metadata": {},
   "source": [
    "# Chlorambucil cytotoxicity to leukemia cells\n",
    "\n",
    "Equation (1) by Valle et al. in 'Chemoimmunotherapy administration protocol design for the treatment of leukemia through mathematical modelling and in silico experimentation':\n",
    "\n",
    "$\\mu _{AC}\\left( \\varkappa \\right) =\\left[ \\log _{10}\\left( 1+\\varepsilon_{1}\\varkappa \\right) \\right] ^{1/\\varepsilon _{2}}$\n",
    "\n",
    "where\n",
    "\n",
    "$\\varkappa:$ Chlorambucil concentration in mg/L."
   ]
  },
  {
   "cell_type": "code",
   "execution_count": 8,
   "id": "ad335248-19e4-439b-9807-3304ec038e92",
   "metadata": {},
   "outputs": [
    {
     "name": "stdout",
     "output_type": "stream",
     "text": [
      "Chlorambucil concentration in mg/L:\n",
      "[ 0.          0.47533125  0.9506625   1.901325    3.80265     7.6053\n",
      " 15.2106    ]\n",
      "Experimental chlorambucil cytotoxicity rates:\n",
      "[0.     0.072  0.096  0.144  0.2112 0.3024 0.432 ]\n",
      "Fitted parameter values for Equation (1):\n",
      "[0.04799253 1.69300278]\n",
      "Fitted chlorambucil cytotoxicity rates:\n",
      "[0.         0.06506971 0.09735138 0.14474792 0.2127657  0.30659691\n",
      " 0.42836431]\n"
     ]
    }
   ],
   "source": [
    "import numpy\n",
    "from scipy.optimize import curve_fit\n",
    "import math\n",
    "\n",
    "\"\"\"Observed data\n",
    "Time and data needs to be concatenated in a 1D array for function curve_fit(Equations, tdata, odata,...) :\n",
    "tdata and odata need to be the same length. Hence, for each variable in odata \n",
    "the time data needs to be repeated in odata, as follows:\n",
    "\n",
    "tdata = |to|    odata = |xo|\n",
    "\"\"\"\n",
    "xo=numpy.array([0,1.5625,3.125,6.25,12.5,25,50])*(1E-6)*(304.212)*(1E3);\n",
    "print('Chlorambucil concentration in mg/L:')\n",
    "print(xo)\n",
    "yo=numpy.array([0,0.003,0.004,0.006,0.0088,0.0126,0.018])*24;\n",
    "print('Experimental chlorambucil cytotoxicity rates:')\n",
    "print(yo)\n",
    "\n",
    "\"\"\"Function where the mathematical model is defined and returns the fitted solutions:\"\"\"\n",
    "def Equations(x,P1,P2):\n",
    "    return (numpy.log10(1+P1*x))**(1/P2)\n",
    "\n",
    "\"\"\"Fitting the observed data to the solutions of the mathematical model defined in Equations\"\"\"\n",
    "npar=2 #Number of parameters to be fitted in the mathematical model defined in Equations\n",
    "low=numpy.zeros(npar) #Lower bound for the parameters values to be fitted\n",
    "sup=numpy.ones(npar)*math.inf #Superior bound for the parameters values to be fitted\n",
    "p0=[1E-2,1] #Initial guess for the parameters values\n",
    "popt, pcov = curve_fit(Equations, xo, yo, p0, bounds=(low,sup)); #curve_fit function\n",
    "print('Fitted parameter values for Equation (1):')\n",
    "print(popt) #Fitted parameters values\n",
    "\n",
    "\"\"\"Solving the mathematical model defined in Equations with the fitted parameters\"\"\"\n",
    "ya=Equations(xo,*popt) #Apprtoximated values\n",
    "print('Fitted chlorambucil cytotoxicity rates:')\n",
    "print(ya)"
   ]
  },
  {
   "cell_type": "markdown",
   "id": "763d6cb2",
   "metadata": {},
   "source": [
    "# CAR-T cells cytotoxicity to leukemia cells\n",
    "\n",
    "Equation (5) by Valle et al. in 'Chemoimmunotherapy administration protocol design for the treatment of leukemia through mathematical modelling and in silico experimentation':\n",
    "\n",
    "$\\alpha _{T}\\left( \\rho _{T},\\mu _{T},\\rho _{A}\\right) =\\gamma _{1}+\\dfrac{%\n",
    "\\mu _{T}\\rho _{T}}{\\gamma _{2}+\\mu _{T}\\rho _{T}}+\\dfrac{\\rho _{A}\\rho _{T}}{%\n",
    "\\gamma _{3}+\\rho _{A}\\rho _{T}}$\n",
    "\n",
    "where\n",
    "\n",
    "$\\rho _{T}:$ CAR-T cells mitosis stimulation rate,\n",
    "\n",
    "$\\mu _{T}:$ CAR-T cells natural death rate,\n",
    "\n",
    "$\\rho _{A}:$ Leukemia cells growth rate."
   ]
  },
  {
   "cell_type": "code",
   "execution_count": 10,
   "id": "6583e2df",
   "metadata": {},
   "outputs": [
    {
     "name": "stdout",
     "output_type": "stream",
     "text": [
      "CAR-T cells mitosis stimulation rates:\n",
      "[2.786e-08 2.880e-08 3.170e-08 3.022e-08 3.120e-08 3.392e-08]\n",
      "CAR-T cells natural death rates:\n",
      "[0.03333333 0.07142857]\n",
      "Leukemia cells growth rates:\n",
      "[0.01666667 0.025      0.05      ]\n",
      "Experimental CAR-T cells cytotoxicity rates:\n",
      "[1.393e-07 1.440e-07 1.585e-07 1.511e-07 1.560e-07 1.696e-07]\n",
      "Fitted parameters values for Equation (5):\n",
      "[1.25630251e-07 1.22119816e-01 6.77666812e-02]\n",
      "Fitted CAR-T cells cytotoxicity rates:\n",
      "[1.40086746e-07 1.44116073e-07 1.57672030e-07 1.50738464e-07\n",
      " 1.55389388e-07 1.70497298e-07]\n"
     ]
    }
   ],
   "source": [
    "import numpy\n",
    "from scipy.optimize import curve_fit\n",
    "import math\n",
    "\n",
    "\"\"\"Observed data\n",
    "Time and data needs to be concatenated in a 1D array for function curve_fit(Equations, tdata, odata,...) :\n",
    "tdata and odata need to be the same length. Hence, for each variable in odata \n",
    "the time data needs to be repeated in odata, as follows:\n",
    "\n",
    "tdata = |to|    odata = |xo|\n",
    "\"\"\"\n",
    "\n",
    "rhoT=numpy.array([2.786E-08,2.880E-8,3.170E-8,3.022E-8,3.120E-8,3.392E-8])\n",
    "print('CAR-T cells mitosis stimulation rates:')\n",
    "print(rhoT)\n",
    "muT=numpy.array([1/30,1/14])\n",
    "print('CAR-T cells natural death rates:')\n",
    "print(muT)\n",
    "rhoA=numpy.array([1/60,1/40,1/20])\n",
    "print('Leukemia cells growth rates:')\n",
    "print(rhoA)\n",
    "xo=numpy.concatenate((rhoT,muT,rhoA))\n",
    "alphaT=numpy.array([1.393E-7,1.440E-7,1.585E-7,1.511E-7,1.560E-7,1.696E-7])\n",
    "print('Experimental CAR-T cells cytotoxicity rates:')\n",
    "print(alphaT)\n",
    "\n",
    "def cytotoxicity(xo,g1,g2,g3):\n",
    "    y1 = g1 + numpy.divide(muT[0]*rhoT[0:3],g2+muT[0]*rhoT[0:3]) + numpy.divide(numpy.multiply(rhoA,rhoT[0:3]),g3+numpy.multiply(rhoA,rhoT[0:3]))\n",
    "    y2 = g1 + numpy.divide(muT[1]*rhoT[3:6],g2+muT[0]*rhoT[3:6]) + numpy.divide(numpy.multiply(rhoA,rhoT[3:6]),g3+numpy.multiply(rhoA,rhoT[3:6]))\n",
    "    return numpy.concatenate((y1,y2))/1E-7\n",
    "\n",
    "\"\"\"Fitting the observed data to the solutions of the mathematical model defined in Equations\"\"\"\n",
    "Ig=[1E-7,1E-1,1E-1] #Initial guess for the parameters values\n",
    "low=numpy.zeros(len(Ig)) #Lower bound for the parameters values to be fitted\n",
    "sup=numpy.ones(len(Ig))*math.inf #Superior bound for the parameters values to be fitted\n",
    "popt, pcov = curve_fit(cytotoxicity, xo, alphaT/(1E-7), Ig, bounds=(low,sup)); #curve_fit function\n",
    "print('Fitted parameters values for Equation (5):')\n",
    "print(popt) #Fitted parameters values\n",
    "\n",
    "\"\"\"Solving the mathematical model defined in Equations with the fitted parameters\"\"\"\n",
    "alphaT_fit=cytotoxicity(xo,*popt)*1E-7 #Apprtoximated values\n",
    "print('Fitted CAR-T cells cytotoxicity rates:')\n",
    "print(alphaT_fit)"
   ]
  },
  {
   "cell_type": "code",
   "execution_count": null,
   "id": "3c861415",
   "metadata": {},
   "outputs": [],
   "source": []
  }
 ],
 "metadata": {
  "kernelspec": {
   "display_name": "Python 3 (ipykernel)",
   "language": "python",
   "name": "python3"
  },
  "language_info": {
   "codemirror_mode": {
    "name": "ipython",
    "version": 3
   },
   "file_extension": ".py",
   "mimetype": "text/x-python",
   "name": "python",
   "nbconvert_exporter": "python",
   "pygments_lexer": "ipython3",
   "version": "3.9.7"
  }
 },
 "nbformat": 4,
 "nbformat_minor": 5
}
