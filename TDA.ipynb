{
  "nbformat": 4,
  "nbformat_minor": 0,
  "metadata": {
    "colab": {
      "provenance": [],
      "private_outputs": true,
      "gpuType": "T4",
      "authorship_tag": "ABX9TyOP4V7gXqKykkMOtQnerTRm",
      "include_colab_link": true
    },
    "kernelspec": {
      "name": "python3",
      "display_name": "Python 3"
    },
    "language_info": {
      "name": "python"
    },
    "accelerator": "GPU",
    "gpuClass": "standard"
  },
  "cells": [
    {
      "cell_type": "markdown",
      "metadata": {
        "id": "view-in-github",
        "colab_type": "text"
      },
      "source": [
        "<a href=\"https://colab.research.google.com/github/AnastasiyaPunko/TDA/blob/main/TDA.ipynb\" target=\"_parent\"><img src=\"https://colab.research.google.com/assets/colab-badge.svg\" alt=\"Open In Colab\"/></a>"
      ]
    },
    {
      "cell_type": "markdown",
      "source": [
        "**Chimeric antigen receptor T cells  are a highly effective novel immune therapy.**\n",
        "\n",
        "**Cytokine release syndrome (CRS) is the most significant and life-threatening \n",
        "toxicity after such therapy. Peak levels of some cytokines in the first month \n",
        "after infusion were highly associated with severe CRS.  We can predict which patients would develop severe CRS with a measured cytokines.**<br>\n",
        "\n",
        "<br>\n",
        "<br>\n",
        "Measured cytokines (IL12,\tIL13,\tsIL2Ra,\tMCP1,\tEGF) for normal donor cohort and for patients with ALL.<br>\n",
        "<br>\n",
        "<br>"
      ],
      "metadata": {
        "id": "mEFozb_zZE5m"
      }
    },
    {
      "cell_type": "code",
      "source": [
        "import pandas as pd\n",
        "import numpy as np\n",
        "import seaborn as sns\n",
        "import matplotlib\n",
        "import matplotlib as mpl\n",
        "import matplotlib.pyplot as plt\n",
        "\n",
        "# installing giotto-tda using pip\n",
        "!python -m pip install -U giotto-tda"
      ],
      "metadata": {
        "id": "qNHL7y06fL7K"
      },
      "execution_count": null,
      "outputs": []
    },
    {
      "cell_type": "code",
      "source": [
        "file_location = '/content/Cytokine value df.xlsx'\n",
        "df = pd.read_excel(file_location)"
      ],
      "metadata": {
        "id": "Iz8sVTwqkLNA"
      },
      "execution_count": null,
      "outputs": []
    },
    {
      "cell_type": "code",
      "source": [
        "df"
      ],
      "metadata": {
        "id": "6fSqaC4SYJXi"
      },
      "execution_count": null,
      "outputs": []
    },
    {
      "cell_type": "markdown",
      "source": [
        "# **EDA**"
      ],
      "metadata": {
        "id": "zLxZgytpsW9t"
      }
    },
    {
      "cell_type": "code",
      "source": [
        "df = pd.get_dummies(df, columns=['Cohort'])"
      ],
      "metadata": {
        "id": "QZweWhg4pJfn"
      },
      "execution_count": null,
      "outputs": []
    },
    {
      "cell_type": "code",
      "source": [
        "type(df)\n",
        "\n",
        "# Print dtypes and make sure that all cytokins values columns are float64\n",
        "df.dtypes"
      ],
      "metadata": {
        "id": "2I1wd5mgYJ3u"
      },
      "execution_count": null,
      "outputs": []
    },
    {
      "cell_type": "code",
      "source": [
        "# Check that we don't have missing values\n",
        "# hint: isna with sum\n",
        "isna = df.isna().sum()\n",
        "totalna = sum(isna)\n",
        "print(\"Total NA: \", totalna)\n",
        "# Assert that its actually 0 and provide some message if it's not\n",
        "assert totalna == 0, print('We have missing values!')\n",
        "\n",
        "\n",
        "#The values ​​of the normalized expression in this dataset cannot be less than 0. Let's check if it's true:\n",
        "# Select numerical columns\n",
        "# hint: select_dtypes\n",
        "numcols = df.select_dtypes(include=np.number).columns\n",
        "# Assert that the total number of values < 0 is 0\n",
        "assert (df[numcols] < 0).any().sum() == 0, \\\n",
        "  \"All cytokins values must be > 0\""
      ],
      "metadata": {
        "id": "PWTb-SFleqyH"
      },
      "execution_count": null,
      "outputs": []
    },
    {
      "cell_type": "code",
      "source": [
        "df.describe()"
      ],
      "metadata": {
        "id": "YSBvz6xaj8H9"
      },
      "execution_count": null,
      "outputs": []
    },
    {
      "cell_type": "code",
      "source": [
        "#Histogram for each column using the built-in pandas method\n",
        "_ = df.hist(figsize=(22, 18), bins=25)"
      ],
      "metadata": {
        "id": "dqQ6YF6SiO32"
      },
      "execution_count": null,
      "outputs": []
    },
    {
      "cell_type": "code",
      "source": [
        "correlations = df.corr(method='pearson') \n",
        "\n",
        "plt.figure(figsize=(8.5,8.5))\n",
        "sns.heatmap(correlations, square=True, annot=True, linewidths=0.25)\n",
        "plt.title(\"Correlation matrix\")\n",
        "plt.show()"
      ],
      "metadata": {
        "id": "wTQE4wSRinCC"
      },
      "execution_count": null,
      "outputs": []
    },
    {
      "cell_type": "markdown",
      "source": [
        "# **PERSISTENT HOMOLOGY**"
      ],
      "metadata": {
        "id": "SjPtEM3Fnrej"
      }
    },
    {
      "cell_type": "markdown",
      "source": [
        "##Generate data"
      ],
      "metadata": {
        "id": "bkfjVl4M7-rV"
      }
    },
    {
      "cell_type": "code",
      "source": [
        "# Convert Pandas DataFrame Into NumPy Array\n",
        "ndarray = df.to_numpy()\n",
        "\n",
        "ndarray.shape"
      ],
      "metadata": {
        "id": "RP8MbIyH71tG"
      },
      "execution_count": null,
      "outputs": []
    },
    {
      "cell_type": "code",
      "source": [
        "#Gives a new shape to an array without changing its data\n",
        "data=ndarray.reshape(1, *ndarray.shape)\n",
        "data"
      ],
      "metadata": {
        "id": "ktws2pfV_Pfl"
      },
      "execution_count": null,
      "outputs": []
    },
    {
      "cell_type": "code",
      "source": [
        "from gtda.plotting import plot_point_cloud\n",
        "i = 0\n",
        "plot_point_cloud(data[i])"
      ],
      "metadata": {
        "id": "QOp0XttdKXPx"
      },
      "execution_count": null,
      "outputs": []
    },
    {
      "cell_type": "markdown",
      "source": [
        "##Calculate persistent homology"
      ],
      "metadata": {
        "id": "80eAzAZM8Sa-"
      }
    },
    {
      "cell_type": "code",
      "source": [
        "#Instantiate a VietorisRipsPersistence transformer \n",
        "#and calculate persistence diagrams for collection of point clouds\n",
        "from gtda.homology import VietorisRipsPersistence\n",
        "VR = VietorisRipsPersistence()\n",
        "diagrams = VR.fit_transform(data)\n",
        "diagrams.shape"
      ],
      "metadata": {
        "id": "GQFnMe3gqpqw"
      },
      "execution_count": null,
      "outputs": []
    },
    {
      "cell_type": "code",
      "source": [
        "# Persistence diagram in 2D \n",
        "from gtda.plotting import plot_diagram\n",
        "\n",
        "i = 0\n",
        "plot_diagram(diagrams[i])"
      ],
      "metadata": {
        "id": "lQ6-NjnMqoMz"
      },
      "execution_count": null,
      "outputs": []
    },
    {
      "cell_type": "markdown",
      "source": [
        "##Extract features"
      ],
      "metadata": {
        "id": "oFb8Y5k4Lbl9"
      }
    },
    {
      "cell_type": "code",
      "source": [
        "#Instantiate a PersistenceEntropy transformer and extract scalar features from the persistence diagrams.\n",
        "from gtda.diagrams import PersistenceEntropy\n",
        "\n",
        "PE = PersistenceEntropy()\n",
        "features = PE.fit_transform(diagrams)"
      ],
      "metadata": {
        "id": "fuUFMtFaLcWo"
      },
      "execution_count": null,
      "outputs": []
    },
    {
      "cell_type": "code",
      "source": [
        "features"
      ],
      "metadata": {
        "id": "5ZMVGRzbySQ9"
      },
      "execution_count": null,
      "outputs": []
    },
    {
      "cell_type": "markdown",
      "source": [
        "##Use the new features in a standard classifier"
      ],
      "metadata": {
        "id": "ZQ3yHs5UOaR0"
      }
    },
    {
      "cell_type": "code",
      "source": [
        "#from sklearn.ensemble import RandomForestClassifier\n",
        "#from sklearn.model_selection import train_test_split\n",
        "\n",
        "#X_train, X_valid, y_train, y_valid = train_test_split(features, labels)\n",
        "#model = RandomForestClassifier()\n",
        "#model.fit(X_train, y_train)\n",
        "#model.score(X_valid, y_valid)"
      ],
      "metadata": {
        "id": "kfCpv6VuObtl"
      },
      "execution_count": null,
      "outputs": []
    },
    {
      "cell_type": "code",
      "source": [
        "#labels = np.zeros(40)\n",
        "#labels[10:20] = 1\n",
        "#labels[20:30] = 2\n",
        "#labels[30:] = 3"
      ],
      "metadata": {
        "id": "hyPu5YkA2zJo"
      },
      "execution_count": null,
      "outputs": []
    },
    {
      "cell_type": "code",
      "source": [
        "#labels"
      ],
      "metadata": {
        "id": "47LuXfY66MOm"
      },
      "execution_count": null,
      "outputs": []
    },
    {
      "cell_type": "code",
      "source": [
        "#from sklearn.ensemble import RandomForestClassifier\n",
        "#rf = RandomForestClassifier(oob_score=True, random_state=42)\n",
        "#rf.fit(features, labels)\n",
        "#rf.oob_score_"
      ],
      "metadata": {
        "id": "SeHZ3pH-2xXA"
      },
      "execution_count": null,
      "outputs": []
    },
    {
      "cell_type": "markdown",
      "source": [
        "#MAPPER"
      ],
      "metadata": {
        "id": "CXHOYjQp1OZ5"
      }
    },
    {
      "cell_type": "markdown",
      "source": [
        "##Import libraries"
      ],
      "metadata": {
        "id": "_p2WGvgLCAqd"
      }
    },
    {
      "cell_type": "code",
      "source": [
        "# Data wrangling\n",
        "import numpy as np\n",
        "import pandas as pd  # Not a requirement of giotto-tda, but is compatible with the gtda.mapper module\n",
        "\n",
        "# Data viz\n",
        "from gtda.plotting import plot_point_cloud\n",
        "\n",
        "# TDA magic\n",
        "from gtda.mapper import (\n",
        "    CubicalCover,\n",
        "    make_mapper_pipeline,\n",
        "    Projection,\n",
        "    plot_static_mapper_graph,\n",
        "    plot_interactive_mapper_graph,\n",
        "    MapperInteractivePlotter\n",
        ")\n",
        "\n",
        "# ML tools\n",
        "from sklearn import datasets\n",
        "from sklearn.cluster import DBSCAN\n",
        "from sklearn.decomposition import PCA"
      ],
      "metadata": {
        "id": "aUy8C6jn1TvF"
      },
      "execution_count": null,
      "outputs": []
    },
    {
      "cell_type": "markdown",
      "source": [
        "##Generate and visualise data"
      ],
      "metadata": {
        "id": "ZSF7QUAUCF8D"
      }
    },
    {
      "cell_type": "code",
      "source": [
        "df=df.iloc[:,:5] "
      ],
      "metadata": {
        "id": "zFUctAclHUYC"
      },
      "execution_count": null,
      "outputs": []
    },
    {
      "cell_type": "code",
      "source": [
        "data2 = df.to_numpy()"
      ],
      "metadata": {
        "id": "r1l3e1Q8_ZuU"
      },
      "execution_count": null,
      "outputs": []
    },
    {
      "cell_type": "code",
      "source": [
        "plot_point_cloud(data2)"
      ],
      "metadata": {
        "id": "4Jg_lt7i_lep"
      },
      "execution_count": null,
      "outputs": []
    },
    {
      "cell_type": "markdown",
      "source": [
        "##Configure the Mapper pipeline"
      ],
      "metadata": {
        "id": "WsqkLOIcCTkp"
      }
    },
    {
      "cell_type": "code",
      "source": [
        "# Define filter function – can be any scikit-learn transformer\n",
        "filter_func = Projection(columns=[0,1,2,3,4])\n",
        "# Define cover\n",
        "cover = CubicalCover(n_intervals=10, overlap_frac=0.3)\n",
        "# Choose clustering algorithm – default is DBSCAN\n",
        "clusterer = DBSCAN()\n",
        "\n",
        "# Configure parallelism of clustering step\n",
        "n_jobs = 1\n",
        "\n",
        "# Initialise pipeline\n",
        "pipe = make_mapper_pipeline(\n",
        "    filter_func=filter_func,\n",
        "    cover=cover,\n",
        "    clusterer=clusterer,\n",
        "    verbose=False,\n",
        "    n_jobs=n_jobs,\n",
        ")"
      ],
      "metadata": {
        "id": "XhPP4izC-4Af"
      },
      "execution_count": null,
      "outputs": []
    },
    {
      "cell_type": "markdown",
      "source": [
        "##Visualise the Mapper graph"
      ],
      "metadata": {
        "id": "wGFW7wAdC3TR"
      }
    },
    {
      "cell_type": "code",
      "source": [
        "fig = plot_static_mapper_graph(pipe, data2)\n",
        "fig.show(config={'scrollZoom': True})"
      ],
      "metadata": {
        "id": "Ccl-_xIM_B43"
      },
      "execution_count": null,
      "outputs": []
    },
    {
      "cell_type": "markdown",
      "source": [
        "###Configure the colouring of the Mapper graph"
      ],
      "metadata": {
        "id": "zR79r3JsDcb4"
      }
    },
    {
      "cell_type": "code",
      "source": [
        "plotly_params = {\"node_trace\": {\"marker_colorscale\": \"Blues\"}}\n",
        "fig = plot_static_mapper_graph(\n",
        "    pipe, data2, color_data=data2, plotly_params=plotly_params\n",
        ")\n",
        "fig.show(config={'scrollZoom': True})"
      ],
      "metadata": {
        "id": "KRNn4ui_AGpV"
      },
      "execution_count": null,
      "outputs": []
    },
    {
      "cell_type": "code",
      "source": [
        "# Initialise estimator to color graph by\n",
        "pca = PCA(n_components=1)\n",
        "\n",
        "fig = plot_static_mapper_graph(\n",
        "    pipe, data2, color_data=data2, color_features=pca\n",
        ")\n",
        "fig.show(config={'scrollZoom': True})"
      ],
      "metadata": {
        "id": "g_8CRIkAAYja"
      },
      "execution_count": null,
      "outputs": []
    },
    {
      "cell_type": "code",
      "source": [
        "fig = plot_static_mapper_graph(\n",
        "    pipe, data2, color_data=data2, color_features=pca, node_color_statistic=lambda x: np.mean(x) / 2\n",
        ")\n",
        "fig.show(config={'scrollZoom': True})"
      ],
      "metadata": {
        "id": "Zxe6MRgIAguI"
      },
      "execution_count": null,
      "outputs": []
    },
    {
      "cell_type": "code",
      "source": [
        "graph = pipe.fit_transform(data2)\n",
        "node_elements = graph.vs[\"node_elements\"]\n",
        "print(f\"There are {len(node_elements)} nodes.\\nThe first node consists of row indices {node_elements[0]}.\")"
      ],
      "metadata": {
        "id": "p7m3ZGjWAn_6"
      },
      "execution_count": null,
      "outputs": []
    },
    {
      "cell_type": "code",
      "source": [
        "fig = plot_static_mapper_graph(\n",
        "    pipe, data2, node_color_statistic=np.arange(len(node_elements))\n",
        ")\n",
        "fig.show(config={'scrollZoom': True})"
      ],
      "metadata": {
        "id": "m1nPK0oOAxLd"
      },
      "execution_count": null,
      "outputs": []
    },
    {
      "cell_type": "markdown",
      "source": [
        "###Pass a pandas DataFrame as input"
      ],
      "metadata": {
        "id": "InHsMarYDpwS"
      }
    },
    {
      "cell_type": "code",
      "source": [
        "df2 = pd.DataFrame(data2, columns=[\"IL12\",\"IL13\",\"sIL2Ra\",\"MCP1\",\"EGF\"])\n",
        "df2.head()"
      ],
      "metadata": {
        "id": "DUUU_bUQA-uC"
      },
      "execution_count": null,
      "outputs": []
    },
    {
      "cell_type": "code",
      "source": [
        "pipe.set_params(filter_func=Projection(columns=[\"IL12\",\"IL13\",\"sIL2Ra\",\"MCP1\",\"EGF\"]));"
      ],
      "metadata": {
        "id": "cpeYDKJkBXKQ"
      },
      "execution_count": null,
      "outputs": []
    },
    {
      "cell_type": "code",
      "source": [
        "fig = plot_static_mapper_graph(pipe, df2, color_data=df2)\n",
        "fig.show(config={'scrollZoom': True})"
      ],
      "metadata": {
        "id": "ICJABfQIBcBV"
      },
      "execution_count": null,
      "outputs": []
    },
    {
      "cell_type": "markdown",
      "source": [
        "###Change the layout algorithm"
      ],
      "metadata": {
        "id": "y6MQW5DxOIk_"
      }
    },
    {
      "cell_type": "code",
      "source": [
        "# Reset back to numpy projection\n",
        "pipe.set_params(filter_func=Projection(columns=[0,1,2,3,4]));"
      ],
      "metadata": {
        "id": "p3F0lk_rOKF1"
      },
      "execution_count": null,
      "outputs": []
    },
    {
      "cell_type": "code",
      "source": [
        "fig = plot_static_mapper_graph(\n",
        "    pipe, data2, layout=\"fruchterman_reingold\", color_data=data2\n",
        ")\n",
        "fig.show(config={'scrollZoom': True})"
      ],
      "metadata": {
        "id": "pCZhtib4O__t"
      },
      "execution_count": null,
      "outputs": []
    },
    {
      "cell_type": "markdown",
      "source": [
        "###Change the layout dimension"
      ],
      "metadata": {
        "id": "48h4OEMCPE80"
      }
    },
    {
      "cell_type": "code",
      "source": [
        "fig = plot_static_mapper_graph(pipe, data2, layout_dim=3, color_data=data2)\n",
        "fig.show(config={'scrollZoom': True})"
      ],
      "metadata": {
        "id": "1d7BQTQVPEHd"
      },
      "execution_count": null,
      "outputs": []
    },
    {
      "cell_type": "markdown",
      "source": [
        "###Change the node size scale"
      ],
      "metadata": {
        "id": "lwEYTxAfPpoL"
      }
    },
    {
      "cell_type": "code",
      "source": [
        "node_scale = 30\n",
        "fig = plot_static_mapper_graph(pipe, data2, layout_dim=3, node_scale=node_scale)\n",
        "fig.show(config={'scrollZoom': True})"
      ],
      "metadata": {
        "id": "49cGzGEjPrkU"
      },
      "execution_count": null,
      "outputs": []
    }
  ]
}